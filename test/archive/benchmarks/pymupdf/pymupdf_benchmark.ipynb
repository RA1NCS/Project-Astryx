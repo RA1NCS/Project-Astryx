{
 "cells": [
  {
   "cell_type": "code",
   "execution_count": 56,
   "metadata": {},
   "outputs": [],
   "source": [
    "import fitz  # PyMuPDF\n",
    "import time\n",
    "import os\n",
    "from collections import defaultdict"
   ]
  },
  {
   "cell_type": "code",
   "execution_count": 57,
   "metadata": {},
   "outputs": [],
   "source": [
    "output_dir = \"markdown_output\"\n",
    "os.makedirs(output_dir, exist_ok=True)\n",
    "pdf_name = \"long_pdf.pdf\""
   ]
  },
  {
   "cell_type": "code",
   "execution_count": 58,
   "metadata": {},
   "outputs": [],
   "source": [
    "modes = [\"text\", \"dict\", \"rawdict\"]\n",
    "\n",
    "def extract_pdf_text(mode):\n",
    "    doc = fitz.open(pdf_name)\n",
    "    all_text = []\n",
    "    for page in doc:\n",
    "        text = page.get_text(mode)\n",
    "        if isinstance(text, (list, dict)):\n",
    "            # Convert to string for saving\n",
    "            text = str(text)\n",
    "        all_text.append(text)\n",
    "    return \"\\n\".join(all_text)\n"
   ]
  },
  {
   "cell_type": "code",
   "execution_count": 59,
   "metadata": {},
   "outputs": [
    {
     "name": "stdout",
     "output_type": "stream",
     "text": [
      "Running mode: text\n",
      "Running mode: dict\n",
      "Running mode: rawdict\n",
      "PDF has 104 pages\n",
      "Text mode baseline: 2.27 ms/page\n",
      "------------------------------------------------------------\n"
     ]
    }
   ],
   "source": [
    "results = defaultdict(list)\n",
    "last_outputs = {}\n",
    "\n",
    "# Get page count for per-page calculations\n",
    "doc = fitz.open(pdf_name)\n",
    "page_count = len(doc)\n",
    "doc.close()\n",
    "\n",
    "for mode in modes:\n",
    "    print(f\"Running mode: {mode}\")\n",
    "    for i in range(20):\n",
    "        start = time.time()\n",
    "        output = extract_pdf_text(mode)\n",
    "        duration = time.time() - start\n",
    "        results[mode].append(duration)\n",
    "        if i == 19:\n",
    "            last_outputs[mode] = output\n",
    "\n",
    "    # Save last output to markdown\n",
    "    with open(os.path.join(output_dir, f\"{mode}.md\"), \"w\", encoding=\"utf-8\") as f:\n",
    "        f.write(last_outputs[mode])\n",
    "\n",
    "# Calculate baseline for percentage comparison\n",
    "text_times = results[\"text\"]\n",
    "text_avg_time = sum(text_times) / len(text_times)"
   ]
  },
  {
   "cell_type": "code",
   "execution_count": 64,
   "metadata": {},
   "outputs": [
    {
     "name": "stdout",
     "output_type": "stream",
     "text": [
      "PDF has 104 pages\n",
      "Text mode baseline: 2.27 ms/page\n",
      "------------------------------------------------------------\n",
      "Mode: text    | Avg Time per Run: 0.2357 seconds |   2.27 ms/page |  100.0%\n",
      "Mode: dict    | Avg Time per Run: 0.7178 seconds |   6.90 ms/page |  304.6%\n",
      "Mode: rawdict | Avg Time per Run: 1.8684 seconds |  17.97 ms/page |  792.8%\n"
     ]
    }
   ],
   "source": [
    "print(f\"PDF has {page_count} pages\")\n",
    "print(f\"Text mode baseline: {(text_avg_time * 1000 / page_count):.2f} ms/page\")\n",
    "print(\"-\" * 60)\n",
    "\n",
    "\n",
    "for mode in modes:\n",
    "    times = results[mode]\n",
    "    avg_time = sum(times) / len(times)\n",
    "    ms_per_page = (avg_time * 1000) / page_count\n",
    "    percentage = (avg_time / text_avg_time) * 100\n",
    "    print(f\"Mode: {mode:<7} | Avg Time per Run: {avg_time:.4f} seconds | {ms_per_page:>6.2f} ms/page | {percentage:>6.1f}%\")\n"
   ]
  }
 ],
 "metadata": {
  "kernelspec": {
   "display_name": "Python 3",
   "language": "python",
   "name": "python3"
  },
  "language_info": {
   "codemirror_mode": {
    "name": "ipython",
    "version": 3
   },
   "file_extension": ".py",
   "mimetype": "text/x-python",
   "name": "python",
   "nbconvert_exporter": "python",
   "pygments_lexer": "ipython3",
   "version": "3.10.17"
  }
 },
 "nbformat": 4,
 "nbformat_minor": 2
}
