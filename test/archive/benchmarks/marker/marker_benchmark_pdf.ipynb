{
 "cells": [
  {
   "cell_type": "code",
   "execution_count": 1,
   "metadata": {},
   "outputs": [
    {
     "name": "stderr",
     "output_type": "stream",
     "text": [
      "/opt/homebrew/lib/python3.10/site-packages/tqdm/auto.py:21: TqdmWarning: IProgress not found. Please update jupyter and ipywidgets. See https://ipywidgets.readthedocs.io/en/stable/user_install.html\n",
      "  from .autonotebook import tqdm as notebook_tqdm\n"
     ]
    }
   ],
   "source": [
    "import os\n",
    "from marker.config.parser import ConfigParser\n",
    "from marker.converters.pdf import PdfConverter\n",
    "from marker.models import create_model_dict"
   ]
  },
  {
   "cell_type": "code",
   "execution_count": 2,
   "metadata": {},
   "outputs": [],
   "source": [
    "\n",
    "def convert_pdf_to_json(input_pdf_path: str, output_dir: str):\n",
    "    os.makedirs(output_dir, exist_ok=True)\n",
    "\n",
    "    # Only minimal config: JSON output (images extracted by default)\n",
    "    config_dict = {\n",
    "        \"output_format\": \"json\"\n",
    "    }\n",
    "    parser = ConfigParser(config_dict)\n",
    "\n",
    "    converter = PdfConverter(\n",
    "        artifact_dict=create_model_dict(),\n",
    "        config=parser.generate_config_dict(),\n",
    "        renderer=parser.get_renderer(),\n",
    "        processor_list=parser.get_processors()\n",
    "    )\n",
    "\n",
    "    rendered = converter(input_pdf_path)\n",
    "    # Use Pydantic’s JSON dump to avoid unhashable-dict errors\n",
    "    json_str = rendered.model_dump_json(indent=2)\n",
    "\n",
    "    json_path = os.path.join(output_dir, \"output.json\")\n",
    "    with open(json_path, \"w\", encoding=\"utf-8\") as f:\n",
    "        f.write(json_str)\n",
    "\n",
    "    print(f\"✔ Saved JSON: {json_path}\")\n",
    "    print(f\"✔ Images (if any) → {os.path.join(output_dir, 'images')}\")"
   ]
  },
  {
   "cell_type": "code",
   "execution_count": 3,
   "metadata": {},
   "outputs": [
    {
     "name": "stderr",
     "output_type": "stream",
     "text": [
      "Recognizing layout: 100%|██████████| 1/1 [00:02<00:00,  2.05s/it]\n",
      "Running OCR Error Detection: 100%|██████████| 1/1 [00:00<00:00,  5.45it/s]\n",
      "Detecting bboxes: 0it [00:00, ?it/s]\n",
      "Detecting bboxes: 0it [00:00, ?it/s]"
     ]
    },
    {
     "name": "stdout",
     "output_type": "stream",
     "text": [
      "✔ Saved JSON: out_dir/output.json\n",
      "✔ Images (if any) → out_dir/images\n"
     ]
    },
    {
     "name": "stderr",
     "output_type": "stream",
     "text": [
      "\n"
     ]
    }
   ],
   "source": [
    "pdf_file = \"text_images_1.docx\"\n",
    "out_directory = \"out_dir\"\n",
    "convert_pdf_to_json(pdf_file, out_directory)"
   ]
  }
 ],
 "metadata": {
  "kernelspec": {
   "display_name": "Python 3",
   "language": "python",
   "name": "python3"
  },
  "language_info": {
   "codemirror_mode": {
    "name": "ipython",
    "version": 3
   },
   "file_extension": ".py",
   "mimetype": "text/x-python",
   "name": "python",
   "nbconvert_exporter": "python",
   "pygments_lexer": "ipython3",
   "version": "3.10.17"
  }
 },
 "nbformat": 4,
 "nbformat_minor": 2
}
