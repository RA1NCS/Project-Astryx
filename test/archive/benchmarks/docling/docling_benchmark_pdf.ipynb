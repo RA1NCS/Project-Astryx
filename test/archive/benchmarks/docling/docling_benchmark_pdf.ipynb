{
 "cells": [
  {
   "cell_type": "code",
   "execution_count": null,
   "metadata": {},
   "outputs": [],
   "source": [
    "import time\n",
    "from docling.document_converter import DocumentConverter\n",
    "from docling.datamodel.base_models import InputFormat\n",
    "from docling.datamodel.pipeline_options import PdfPipelineOptions, AcceleratorOptions\n",
    "from docling.document_converter import PdfFormatOption\n",
    "from docling.backend.pypdfium2_backend import PyPdfiumDocumentBackend\n",
    "import warnings\n",
    "\n",
    "\n",
    "warnings.filterwarnings(\"ignore\", category=RuntimeWarning, module=\"numpy\")\n",
    "warnings.filterwarnings(\"ignore\", category=RuntimeWarning, module=\"docling\")"
   ]
  },
  {
   "cell_type": "code",
   "execution_count": 2,
   "metadata": {},
   "outputs": [],
   "source": [
    "pipeline_options = PdfPipelineOptions(\n",
    "    do_ocr=False,                         # heaviest thing that adds most latency\n",
    "    do_table_structure=False,             # main heavy processing (uses tableformer)\n",
    "    do_picture_description=False,\n",
    "    do_picture_classification=False,\n",
    "    generate_parsed_pages=False,\n",
    "    generate_page_images=False,\n",
    "    accelerator_options=AcceleratorOptions(device=\"cpu\"), # do not touch this, we are simulating an azure function compute through this\n",
    ")\n",
    "\n",
    "# we are basically allowing docling here to use LayoutModel which detects the layout of the page - headings, subheadings, tables etc.\n"
   ]
  },
  {
   "cell_type": "code",
   "execution_count": 3,
   "metadata": {},
   "outputs": [],
   "source": [
    "converter = DocumentConverter(\n",
    "    format_options={\n",
    "        InputFormat.PDF: PdfFormatOption(\n",
    "            backend=PyPdfiumDocumentBackend,\n",
    "            pipeline_options=pipeline_options,\n",
    "        )\n",
    "    }\n",
    ")\n",
    "converter.initialize_pipeline(InputFormat.PDF)"
   ]
  },
  {
   "cell_type": "code",
   "execution_count": null,
   "metadata": {},
   "outputs": [],
   "source": [
    "# simple run (non benchmark)\n",
    "\n",
    "# res = converter.convert(\"image_document.pdf\")\n",
    "# doc = res.document"
   ]
  },
  {
   "cell_type": "code",
   "execution_count": 5,
   "metadata": {},
   "outputs": [],
   "source": [
    "def benchmark(pdf_name, tries=30):\n",
    "    times = []\n",
    "    num_runs = 30\n",
    "    \n",
    "    for run in range(num_runs):\n",
    "        start_time = time.time()\n",
    "        res = converter.convert(\n",
    "            pdf_name,\n",
    "        )\n",
    "        end_time = time.time()\n",
    "        \n",
    "        processing_time = end_time - start_time\n",
    "        times.append(processing_time)\n",
    "        print(f\"Run {run + 1}: {processing_time:.2f} seconds\")\n",
    "        \n",
    "    # Calculate statistics\n",
    "    avg_time = sum(times) / len(times)\n",
    "    min_time = min(times)\n",
    "    max_time = max(times)\n",
    "    \n",
    "    print(f\"\\nBenchmark Results ({num_runs} runs):\")\n",
    "    print(f\"Average time: {avg_time:.2f} seconds\")\n",
    "    print(f\"Min time: {min_time:.2f} seconds\")\n",
    "    print(f\"Max time: {max_time:.2f} seconds\")"
   ]
  },
  {
   "cell_type": "code",
   "execution_count": 8,
   "metadata": {},
   "outputs": [
    {
     "name": "stdout",
     "output_type": "stream",
     "text": [
      "Run 1: 0.09 seconds\n",
      "Run 2: 0.08 seconds\n",
      "Run 3: 0.08 seconds\n",
      "Run 4: 0.08 seconds\n",
      "Run 5: 0.08 seconds\n",
      "Run 6: 0.08 seconds\n",
      "Run 7: 0.08 seconds\n",
      "Run 8: 0.08 seconds\n",
      "Run 9: 0.08 seconds\n",
      "Run 10: 0.08 seconds\n",
      "Run 11: 0.08 seconds\n",
      "Run 12: 0.08 seconds\n",
      "Run 13: 0.11 seconds\n",
      "Run 14: 0.08 seconds\n",
      "Run 15: 0.09 seconds\n",
      "Run 16: 0.09 seconds\n",
      "Run 17: 0.08 seconds\n",
      "Run 18: 0.08 seconds\n",
      "Run 19: 0.08 seconds\n",
      "Run 20: 0.08 seconds\n",
      "Run 21: 0.08 seconds\n",
      "Run 22: 0.08 seconds\n",
      "Run 23: 0.08 seconds\n",
      "Run 24: 0.08 seconds\n",
      "Run 25: 0.08 seconds\n",
      "Run 26: 0.08 seconds\n",
      "Run 27: 0.08 seconds\n",
      "Run 28: 0.08 seconds\n",
      "Run 29: 0.08 seconds\n",
      "Run 30: 0.08 seconds\n",
      "\n",
      "Benchmark Results (30 runs):\n",
      "Average time: 0.08 seconds\n",
      "Min time: 0.08 seconds\n",
      "Max time: 0.11 seconds\n"
     ]
    }
   ],
   "source": [
    "benchmark(\"text_images_1.docx\")\n",
    "\n",
    "# i am averaging 2.35 seconds / 5 pages with pdf = 470ms / page"
   ]
  },
  {
   "cell_type": "code",
   "execution_count": null,
   "metadata": {},
   "outputs": [],
   "source": [
    "benchmark(\"table_document.pdf\")\n",
    "\n",
    "# i am averaging 4.76 seconds / 11 pages with pdf = 430ms / page"
   ]
  }
 ],
 "metadata": {
  "kernelspec": {
   "display_name": "Python 3",
   "language": "python",
   "name": "python3"
  },
  "language_info": {
   "codemirror_mode": {
    "name": "ipython",
    "version": 3
   },
   "file_extension": ".py",
   "mimetype": "text/x-python",
   "name": "python",
   "nbconvert_exporter": "python",
   "pygments_lexer": "ipython3",
   "version": "3.10.17"
  }
 },
 "nbformat": 4,
 "nbformat_minor": 2
}
