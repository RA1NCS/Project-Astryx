{
 "cells": [
  {
   "cell_type": "code",
   "execution_count": 1,
   "metadata": {},
   "outputs": [
    {
     "name": "stderr",
     "output_type": "stream",
     "text": [
      "/opt/homebrew/Cellar/python@3.10/3.10.17_1/Frameworks/Python.framework/Versions/3.10/lib/python3.10/site-packages/tqdm/auto.py:21: TqdmWarning: IProgress not found. Please update jupyter and ipywidgets. See https://ipywidgets.readthedocs.io/en/stable/user_install.html\n",
      "  from .autonotebook import tqdm as notebook_tqdm\n"
     ]
    },
    {
     "data": {
      "text/plain": [
       "True"
      ]
     },
     "execution_count": 1,
     "metadata": {},
     "output_type": "execute_result"
    }
   ],
   "source": [
    "import time\n",
    "import torch\n",
    "from transformers import AutoTokenizer, AutoModelForSequenceClassification\n",
    "import replicate\n",
    "import os\n",
    "from dotenv import load_dotenv\n",
    "\n",
    "load_dotenv()"
   ]
  },
  {
   "cell_type": "code",
   "execution_count": 2,
   "metadata": {},
   "outputs": [],
   "source": [
    "pairs_hf = [\n",
    "    [\"what is panda?\", \"hi\"],\n",
    "    [\"what is panda?\", \"The giant panda is a bear species endemic to China.\"],\n",
    "]\n",
    "\n",
    "pairs_replicate = {\n",
    "        \"input_list\": '[[\"what is panda?\", \"hi\"], [\"what is panda?\", \"The giant panda is a bear species endemic to China.\"]]'\n",
    "    }"
   ]
  },
  {
   "cell_type": "code",
   "execution_count": 3,
   "metadata": {},
   "outputs": [
    {
     "name": "stdout",
     "output_type": "stream",
     "text": [
      "Scores: [-8.1484375, 2.40625]\n",
      "Time: 4.35s\n"
     ]
    }
   ],
   "source": [
    "# Huggingface\n",
    "start_time = time.time()\n",
    "\n",
    "tokenizer = AutoTokenizer.from_pretrained(\"BAAI/bge-reranker-base\")\n",
    "model = AutoModelForSequenceClassification.from_pretrained(\n",
    "    \"BAAI/bge-reranker-base\", torch_dtype=torch.float16\n",
    ").to(\"cpu\")\n",
    "model.eval()\n",
    "\n",
    "with torch.no_grad():\n",
    "    inputs = tokenizer(\n",
    "        pairs_hf, padding=True, truncation=True, return_tensors=\"pt\", max_length=512\n",
    "    ).to(\"cpu\")\n",
    "    scores = (\n",
    "        model(**inputs, return_dict=True)\n",
    "        .logits.view(\n",
    "            -1,\n",
    "        )\n",
    "        .float()\n",
    "    )\n",
    "\n",
    "print(f\"Scores: {scores.tolist()}\")\n",
    "print(f\"Time: {time.time() - start_time:.2f}s\")\n"
   ]
  },
  {
   "cell_type": "code",
   "execution_count": 4,
   "metadata": {},
   "outputs": [
    {
     "name": "stdout",
     "output_type": "stream",
     "text": [
      "[-8.1796875, 1.65234375]\n",
      "Time: 21.20s\n"
     ]
    }
   ],
   "source": [
    "# Replicate\n",
    "start_time = time.time()\n",
    "\n",
    "output = replicate.run(\n",
    "    \"yxzwayne/bge-reranker-v2-m3:7f7c6e9d18336e2cbf07d88e9362d881d2fe4d6a9854ec1260f115cabc106a8c\",\n",
    "    input=pairs_replicate,\n",
    ")\n",
    "print(output)\n",
    "print(f\"Time: {time.time() - start_time:.2f}s\")"
   ]
  }
 ],
 "metadata": {
  "kernelspec": {
   "display_name": "Python 3",
   "language": "python",
   "name": "python3"
  },
  "language_info": {
   "codemirror_mode": {
    "name": "ipython",
    "version": 3
   },
   "file_extension": ".py",
   "mimetype": "text/x-python",
   "name": "python",
   "nbconvert_exporter": "python",
   "pygments_lexer": "ipython3",
   "version": "3.10.17"
  }
 },
 "nbformat": 4,
 "nbformat_minor": 2
}
