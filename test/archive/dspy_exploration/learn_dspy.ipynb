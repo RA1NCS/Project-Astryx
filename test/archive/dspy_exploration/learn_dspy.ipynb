{
 "cells": [
  {
   "cell_type": "code",
   "execution_count": 49,
   "id": "2a940d80",
   "metadata": {},
   "outputs": [
    {
     "data": {
      "text/plain": [
       "True"
      ]
     },
     "execution_count": 49,
     "metadata": {},
     "output_type": "execute_result"
    }
   ],
   "source": [
    "import dspy, os\n",
    "from dspy.retrieve.weaviate_rm import WeaviateRM\n",
    "from dotenv import load_dotenv\n",
    "\n",
    "load_dotenv()"
   ]
  },
  {
   "cell_type": "code",
   "execution_count": null,
   "id": "17c9fbb1",
   "metadata": {},
   "outputs": [],
   "source": [
    "lm = dspy.LM(                                                           \n",
    "    \"azure/gpt-4o-mini\",                                   \n",
    "    api_key=os.environ[\"OPENAI_API_KEY\"],\n",
    "    api_base=os.environ[\"OPENAI_API_BASE\"],\n",
    "    # cache=False,\n",
    ")\n",
    "dspy.configure(lm=lm)"
   ]
  },
  {
   "cell_type": "code",
   "execution_count": 54,
   "id": "7a033352",
   "metadata": {},
   "outputs": [
    {
     "name": "stdout",
     "output_type": "stream",
     "text": [
      "Objects in space stay in orbit due to the balance between gravitational force and inertia. The gravitational pull from Earth draws the object toward it, while the object's forward motion keeps it moving sideways. This combination results in a curved path around the Earth, enabling the object to continuously fall towards the planet without actually hitting it.\n"
     ]
    }
   ],
   "source": [
    "def multiComparison(question, n_completions=5):\n",
    "    cot_agent = dspy.ChainOfThought('question -> answer', n=n_completions)\n",
    "    cot = cot_agent(question=question)\n",
    "    \n",
    "    multi_agent = dspy.MultiChainComparison(\"question -> answer\", M=n_completions)\n",
    "    response = multi_agent(completions=cot.completions, question=question)\n",
    "    \n",
    "    return response.answer\n",
    "    \n",
    "print(multiComparison(\"Why do objects in space stay in orbit instead of falling to Earth?\"))"
   ]
  }
 ],
 "metadata": {
  "kernelspec": {
   "display_name": "Python 3",
   "language": "python",
   "name": "python3"
  },
  "language_info": {
   "codemirror_mode": {
    "name": "ipython",
    "version": 3
   },
   "file_extension": ".py",
   "mimetype": "text/x-python",
   "name": "python",
   "nbconvert_exporter": "python",
   "pygments_lexer": "ipython3",
   "version": "3.10.17"
  }
 },
 "nbformat": 4,
 "nbformat_minor": 5
}
