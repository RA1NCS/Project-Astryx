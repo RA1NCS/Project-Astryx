{
 "cells": [
  {
   "cell_type": "code",
   "execution_count": null,
   "metadata": {},
   "outputs": [],
   "source": [
    "import time\n",
    "from docling.document_converter import DocumentConverter\n",
    "import warnings\n",
    "import json\n",
    "\n",
    "warnings.filterwarnings(\"ignore\", category=RuntimeWarning, module=\"numpy\")\n",
    "warnings.filterwarnings(\"ignore\", category=RuntimeWarning, module=\"docling\")"
   ]
  },
  {
   "cell_type": "code",
   "execution_count": 7,
   "metadata": {},
   "outputs": [],
   "source": [
    "converter = DocumentConverter()"
   ]
  },
  {
   "cell_type": "code",
   "execution_count": 8,
   "metadata": {},
   "outputs": [],
   "source": [
    "def benchmark(pdf_name, tries=30):\n",
    "    times = []\n",
    "    num_runs = 30\n",
    "    \n",
    "    for run in range(num_runs):\n",
    "        start_time = time.time()\n",
    "        res = converter.convert(\n",
    "            pdf_name,\n",
    "        )\n",
    "        end_time = time.time()\n",
    "        \n",
    "        processing_time = end_time - start_time\n",
    "        times.append(processing_time)\n",
    "        print(f\"Run {run + 1}: {processing_time:.2f} seconds\")\n",
    "        \n",
    "    # Calculate statistics\n",
    "    avg_time = sum(times) / len(times)\n",
    "    min_time = min(times)\n",
    "    max_time = max(times)\n",
    "    \n",
    "    print(f\"\\nBenchmark Results ({num_runs} runs):\")\n",
    "    print(f\"Average time: {avg_time:.2f} seconds\")\n",
    "    print(f\"Min time: {min_time:.2f} seconds\")\n",
    "    print(f\"Max time: {max_time:.2f} seconds\")"
   ]
  },
  {
   "cell_type": "code",
   "execution_count": null,
   "metadata": {},
   "outputs": [],
   "source": [
    "benchmark(\"text_images_1.docx\")"
   ]
  },
  {
   "cell_type": "code",
   "execution_count": null,
   "metadata": {},
   "outputs": [],
   "source": [
    "res = converter.convert(\"text_images_1.docx\")\n",
    "json_output = res.document.export_to_dict()\n",
    "print(json.dumps(json_output, indent=2))"
   ]
  }
 ],
 "metadata": {
  "kernelspec": {
   "display_name": "Python 3",
   "language": "python",
   "name": "python3"
  },
  "language_info": {
   "codemirror_mode": {
    "name": "ipython",
    "version": 3
   },
   "file_extension": ".py",
   "mimetype": "text/x-python",
   "name": "python",
   "nbconvert_exporter": "python",
   "pygments_lexer": "ipython3",
   "version": "3.10.17"
  }
 },
 "nbformat": 4,
 "nbformat_minor": 2
}
